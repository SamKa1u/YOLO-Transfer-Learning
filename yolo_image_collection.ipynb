{
 "cells": [
  {
   "cell_type": "code",
   "id": "initial_id",
   "metadata": {
    "collapsed": true,
    "ExecuteTime": {
     "end_time": "2025-03-24T22:58:09.807478Z",
     "start_time": "2025-03-24T22:58:09.400269Z"
    }
   },
   "source": [
    "import cv2\n",
    "import os\n",
    "import time\n",
    "import uuid\n"
   ],
   "outputs": [],
   "execution_count": 2
  },
  {
   "cell_type": "code",
   "id": "56ae5265e085dc8c",
   "metadata": {
    "ExecuteTime": {
     "end_time": "2025-03-24T22:58:09.970556Z",
     "start_time": "2025-03-24T22:58:09.834412Z"
    }
   },
   "source": "IMAGES_PATH = 'C:\\\\Users\\Sam\\Projects\\Model_training\\yolo\\gesture_dataset\\\\'",
   "outputs": [],
   "execution_count": 3
  },
  {
   "cell_type": "code",
   "id": "203d961f6ac978b8",
   "metadata": {
    "ExecuteTime": {
     "end_time": "2025-03-24T22:58:11.489886Z",
     "start_time": "2025-03-24T22:58:11.481244Z"
    }
   },
   "source": [
    "labels = ['dim','brighten','enter','up','left','down','right','red','green','blue']\n",
    "number_imgs = 50"
   ],
   "outputs": [],
   "execution_count": 4
  },
  {
   "cell_type": "code",
   "id": "5426e74d823589a2",
   "metadata": {
    "ExecuteTime": {
     "end_time": "2025-03-24T23:03:20.370860Z",
     "start_time": "2025-03-24T23:00:48.127999Z"
    }
   },
   "source": [
    "for label in labels:\n",
    "    os.mkdir(IMAGES_PATH+label)\n",
    "    cap = cv2.VideoCapture(0)\n",
    "    print('Collecting images for {}'.format(label))\n",
    "    time.sleep(5)\n",
    "    for imgnum in range(number_imgs):\n",
    "        ret, frame = cap.read()\n",
    "        imgname = os.path.join(IMAGES_PATH, label, label+'.'+'{}.jpg'.format(str(uuid.uuid1())))\n",
    "        cv2.imwrite(imgname, frame)\n",
    "        cv2.imshow('frame', frame)\n",
    "        time.sleep(2)\n",
    "\n",
    "        if cv2.waitKey(1) & 0xFF == ord('q'):\n",
    "            break\n",
    "    cap.release()"
   ],
   "outputs": [
    {
     "name": "stdout",
     "output_type": "stream",
     "text": [
      "Collecting images for dim\n"
     ]
    }
   ],
   "execution_count": 6
  },
  {
   "metadata": {},
   "cell_type": "code",
   "outputs": [],
   "execution_count": null,
   "source": "",
   "id": "4291e93bd9fdbbf"
  }
 ],
 "metadata": {
  "kernelspec": {
   "display_name": "Python 3",
   "language": "python",
   "name": "python3"
  },
  "language_info": {
   "codemirror_mode": {
    "name": "ipython",
    "version": 3
   },
   "file_extension": ".py",
   "mimetype": "text/x-python",
   "name": "python",
   "nbconvert_exporter": "python",
   "pygments_lexer": "ipython3",
   "version": "3.13.0"
  }
 },
 "nbformat": 4,
 "nbformat_minor": 5
}
